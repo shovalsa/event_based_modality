{
 "cells": [
  {
   "cell_type": "code",
   "execution_count": 17,
   "metadata": {},
   "outputs": [],
   "source": [
    "import os\n",
    "import jsonlines"
   ]
  },
  {
   "cell_type": "code",
   "execution_count": 21,
   "metadata": {},
   "outputs": [
    {
     "name": "stdout",
     "output_type": "stream",
     "text": [
      "dtrain_modal-BIOSE-coarse.jsonl\r\n",
      "dtrain_modal-BIOSE-coarse_masked.jsonl\r\n",
      "dtrain_modal-BIOSE-coarse_only_modal_verbs.jsonl\r\n",
      "dtrain_modal-BIOSE-coarse_only_modal_verbs_masked.jsonl\r\n",
      "modal-BIOSE-coarse.jsonl\r\n",
      "modal-BIOSE-coarse_only_modal_verbs.jsonl\r\n",
      "test_modal-BIOSE-coarse.jsonl\r\n",
      "test_modal-BIOSE-coarse_masked.jsonl\r\n",
      "test_modal-BIOSE-coarse_only_modal_verbs.jsonl\r\n",
      "test_modal-BIOSE-coarse_only_modal_verbs_masked.jsonl\r\n",
      "validation_modal-BIOSE-coarse.jsonl\r\n",
      "validation_modal-BIOSE-coarse_masked.jsonl\r\n",
      "validation_modal-BIOSE-coarse_only_modal_verbs.jsonl\r\n",
      "validation_modal-BIOSE-coarse_only_modal_verbs_masked.jsonl\r\n"
     ]
    }
   ],
   "source": [
    "!ls ../../data/GME/jsonlines"
   ]
  },
  {
   "cell_type": "markdown",
   "metadata": {},
   "source": [
    "### coarse-grained"
   ]
  },
  {
   "cell_type": "code",
   "execution_count": 22,
   "metadata": {},
   "outputs": [],
   "source": [
    "train_jl = \"../../data/GME/jsonlines/dtrain_modal-BIOSE-coarse.jsonl\"\n",
    "val_jl = \"../../data/GME/jsonlines/validation_modal-BIOSE-coarse.jsonl\"\n",
    "test_jl = \"../../data/GME/jsonlines/test_modal-BIOSE-coarse.jsonl\""
   ]
  },
  {
   "cell_type": "code",
   "execution_count": 19,
   "metadata": {},
   "outputs": [],
   "source": [
    "def get_sents(filepath):\n",
    "    with jsonlines.open(filepath, \"r\") as f:\n",
    "        return [line[\"sentence\"] for line in f]"
   ]
  },
  {
   "cell_type": "code",
   "execution_count": 25,
   "metadata": {},
   "outputs": [],
   "source": [
    "train_sents = get_sents(train_jl)\n",
    "val_sents = get_sents(val_jl)\n",
    "test_sents = get_sents(test_jl)\n"
   ]
  },
  {
   "cell_type": "code",
   "execution_count": 51,
   "metadata": {},
   "outputs": [],
   "source": [
    "def write_sentence_to_file(sentences, file, tokens):\n",
    "    sent = \" \".join([t[0] for t in tokens])\n",
    "    if sent in sentences:\n",
    "        for token, label in tokens:\n",
    "            file.write(f\"{token} {label}\\n\")\n",
    "        file.write(\"\\n\")"
   ]
  },
  {
   "cell_type": "code",
   "execution_count": 52,
   "metadata": {},
   "outputs": [],
   "source": [
    "with open(train_jl.replace(\".jsonl\", \".txt\"), 'w') as train_f, open(\n",
    "    val_jl.replace(\".jsonl\", \".txt\"), 'w') as val_f, open(\n",
    "    test_jl.replace(\".jsonl\", \".txt\"), 'w') as test_f:\n",
    "    with open(\"../../data/GME/modal-BIOSE-coarse.txt\", \"r\") as f:\n",
    "        for line in f.readlines():\n",
    "            tokens = [t.split(\"###\") for t in line.strip().split(\" \")]\n",
    "            write_sentence_to_file(train_sents, train_f, tokens)\n",
    "            write_sentence_to_file(val_sents, val_f, tokens)\n",
    "            write_sentence_to_file(test_sents, test_f, tokens)            "
   ]
  },
  {
   "cell_type": "markdown",
   "metadata": {},
   "source": [
    "### from xml"
   ]
  },
  {
   "cell_type": "code",
   "execution_count": null,
   "metadata": {},
   "outputs": [],
   "source": []
  }
 ],
 "metadata": {
  "kernelspec": {
   "display_name": "Python 3",
   "language": "python",
   "name": "python3"
  },
  "language_info": {
   "codemirror_mode": {
    "name": "ipython",
    "version": 3
   },
   "file_extension": ".py",
   "mimetype": "text/x-python",
   "name": "python",
   "nbconvert_exporter": "python",
   "pygments_lexer": "ipython3",
   "version": "3.7.5"
  }
 },
 "nbformat": 4,
 "nbformat_minor": 2
}
