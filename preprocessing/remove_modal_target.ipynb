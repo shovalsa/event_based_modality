{
 "cells": [
  {
   "cell_type": "code",
   "execution_count": 1,
   "metadata": {},
   "outputs": [],
   "source": [
    "import jsonlines"
   ]
  },
  {
   "cell_type": "code",
   "execution_count": 5,
   "metadata": {},
   "outputs": [],
   "source": [
    "epos_e_unbalanced = \"../../data/EPOS_E/dtrain_EPOS+MPQA_unbalance.jsonl\"\n",
    "gme_mv = \"../../data/GME/dtrain_modal-BIOSE-coarse_only_modal_verbs.jsonl\"\n",
    "gme_all = \"../../data/GME/dtrain_modal-BIOSE-coarse.jsonl\""
   ]
  },
  {
   "cell_type": "code",
   "execution_count": 8,
   "metadata": {},
   "outputs": [],
   "source": [
    "epos_e_unbalanced_masked = \"../../data/EPOS_E/dtrain_EPOS+MPQA_unbalance_masked.jsonl\"\n",
    "gme_mv_masked = \"../../data/GME/dtrain_modal-BIOSE-coarse_only_modal_verbs_masked.jsonl\"\n",
    "gme_all_masked = \"../../data/GME/dtrain_modal-BIOSE-coarse_masked.jsonl\""
   ]
  },
  {
   "cell_type": "code",
   "execution_count": 10,
   "metadata": {},
   "outputs": [],
   "source": [
    "with jsonlines.open(epos_e_unbalanced, \"r\") as jlin:\n",
    "    with jsonlines.open(epos_e_unbalanced_masked, \"w\") as jlout:\n",
    "        for line in jlin:\n",
    "            tokens = line[\"sentence\"].split()\n",
    "            masked_tokens= \" \".join([t for t in tokens if t != line[\"modal_verb\"]])\n",
    "            jlout.write({\"sentence\": masked_tokens, \"label\": line[\"label\"], \"modal_verb\": line[\"modal_verb\"]})"
   ]
  },
  {
   "cell_type": "code",
   "execution_count": null,
   "metadata": {},
   "outputs": [],
   "source": []
  }
 ],
 "metadata": {
  "kernelspec": {
   "display_name": "Python 3",
   "language": "python",
   "name": "python3"
  },
  "language_info": {
   "codemirror_mode": {
    "name": "ipython",
    "version": 3
   },
   "file_extension": ".py",
   "mimetype": "text/x-python",
   "name": "python",
   "nbconvert_exporter": "python",
   "pygments_lexer": "ipython3",
   "version": "3.7.5"
  }
 },
 "nbformat": 4,
 "nbformat_minor": 2
}
